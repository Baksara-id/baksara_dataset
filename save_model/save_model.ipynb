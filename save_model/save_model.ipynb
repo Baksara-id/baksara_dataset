{
 "cells": [
  {
   "cell_type": "code",
   "execution_count": 12,
   "metadata": {},
   "outputs": [],
   "source": [
    "import tensorflow.keras as keras\n",
    "import tensorflowjs as tfjs\n",
    "import os\n",
    "\n",
    "# Define the paths\n",
    "model_path = 'model.h5'\n",
    "tfjs_target_dir = 'output'\n",
    "\n",
    "# Create the target directory if it doesn't exist\n",
    "os.makedirs(tfjs_target_dir, exist_ok=True)\n",
    "\n",
    "# Load the Keras model\n",
    "model = keras.models.load_model(model_path)\n",
    "\n",
    "# Convert and save the Keras model as TensorFlow.js format\n",
    "tfjs.converters.save_keras_model(model, tfjs_target_dir)"
   ]
  }
 ],
 "metadata": {
  "kernelspec": {
   "display_name": "Python 3",
   "language": "python",
   "name": "python3"
  },
  "language_info": {
   "codemirror_mode": {
    "name": "ipython",
    "version": 3
   },
   "file_extension": ".py",
   "mimetype": "text/x-python",
   "name": "python",
   "nbconvert_exporter": "python",
   "pygments_lexer": "ipython3",
   "version": "3.11.0"
  },
  "orig_nbformat": 4
 },
 "nbformat": 4,
 "nbformat_minor": 2
}
